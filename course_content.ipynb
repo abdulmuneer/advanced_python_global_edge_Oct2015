{
 "cells": [
  {
   "cell_type": "markdown",
   "metadata": {},
   "source": [
    "\n",
    "a. OOAD (Object Oriented Analysis and Design) in python\n",
    "\n",
    "  1. Inheritance and Polymorphism\n",
    "\n",
    "  2. IS a and HAS a inheritance\n",
    "\n",
    "  3. Multiple inheritance\n",
    "\n",
    "  4. Multi level inheritance\n",
    "\n",
    "  5. Method resolution order (MRO)\n",
    "\n",
    "  6. Polymorphism\n",
    "\n",
    "  7. Static and class methods\n",
    "\n",
    "  8. Iterators and Generators\n",
    "\n",
    "b. Meta programming with Decorators\n",
    "\n",
    "c. Network programming\n",
    "\n",
    "d. Thread and concurrency\n",
    "\n",
    "e. Exception handling\n",
    "\n",
    "f. Metaclasses\n",
    "\n",
    "g. Property  decorator\n",
    "\n",
    "h. Weak References \n",
    "\n",
    "i. Virtual Environments \n",
    "\n",
    "j. Python Memory manager \n",
    "\n",
    "k. Design patterns\n",
    "    1. Singleton  \n",
    "    2. Proxy\n",
    "    3. Factory\n",
    "    4. Abstract Factory\n",
    "    5. Adapter\n",
    "    6. Bridge\n",
    "    7. Composite"
   ]
  }
 ],
 "metadata": {
  "kernelspec": {
   "display_name": "Python 2",
   "language": "python",
   "name": "python2"
  },
  "language_info": {
   "codemirror_mode": {
    "name": "ipython",
    "version": 2
   },
   "file_extension": ".py",
   "mimetype": "text/x-python",
   "name": "python",
   "nbconvert_exporter": "python",
   "pygments_lexer": "ipython2",
   "version": "2.7.6"
  }
 },
 "nbformat": 4,
 "nbformat_minor": 0
}
