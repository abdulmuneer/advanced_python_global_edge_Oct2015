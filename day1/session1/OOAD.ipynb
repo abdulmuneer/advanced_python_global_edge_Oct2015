{
 "cells": [
  {
   "cell_type": "markdown",
   "metadata": {},
   "source": [
    "###Effective Software Design\n",
    "Two simple general principles :\n",
    "\n",
    "* KIS\n",
    "(Keep It Simple)\n",
    "No Overengineering, no Spaghetti code.\n",
    "\n",
    "* DRY\n",
    "(Don’t Repeat Yourself)\n",
    "Code duplication equals bug reuse.\n",
    "\n",
    "### Iterative Development:\n",
    "(Agile Development)\n",
    "\n",
    "* One cannot anticipate every detail of a complex problem.\n",
    "* Start simple (with something that works), then improve it.\n",
    "* Identify emerging patterns and continuously adapt the structure of your code.  (Refactoring, for which you want Unittests)"
   ]
  },
  {
   "cell_type": "markdown",
   "metadata": {},
   "source": [
    "### Objects\n",
    "* Combine state (data) and behavior (algorithms).\n",
    "\n",
    "####Encapsulation : Only what is necessary is exposed (public interface) to the outside.\n",
    "* Implementation details are hidden to provide abstraction.\n",
    "* Abstraction should not leak implementation details.\n",
    "* Abstraction allows us to break up a large problem into understandable parts."
   ]
  },
  {
   "cell_type": "code",
   "execution_count": 1,
   "metadata": {
    "collapsed": false
   },
   "outputs": [
    {
     "name": "stdout",
     "output_type": "stream",
     "text": [
      "<type 'instance'>\n",
      "['__doc__', '__module__', 'travel']\n",
      "['__doc__', '__module__', 'travel']\n",
      "**************************************************\n",
      "['__doc__', '__module__', 'get_wheel_count', 'travel']\n",
      "['__doc__', '__module__', 'get_wheel_count', 'travel']\n"
     ]
    }
   ],
   "source": [
    "# old style classes\n",
    "\n",
    "class Vehicle:\n",
    "    '''\n",
    "    This is a general class of vehicle\n",
    "    '''\n",
    "    def travel(self):\n",
    "        print 'travelling'\n",
    "        \n",
    "class Surface_Vehicles(Vehicle):\n",
    "    def get_wheel_count(self):\n",
    "        return 4\n",
    "        \n",
    "m_800 = Vehicle()\n",
    "print type(m_800)\n",
    "#help(m_800)\n",
    "print dir(m_800)\n",
    "print dir(Vehicle)\n",
    "\n",
    "m_801 = Surface_Vehicles()\n",
    "print \"*\"*50\n",
    "print dir(m_801)\n",
    "print dir(Surface_Vehicles)\n",
    "\n",
    "#print m_800.__doc__"
   ]
  },
  {
   "cell_type": "code",
   "execution_count": 7,
   "metadata": {
    "collapsed": false
   },
   "outputs": [
    {
     "name": "stdout",
     "output_type": "stream",
     "text": [
      "<class '__main__.Vehicle'>\n",
      "['__class__', '__delattr__', '__dict__', '__doc__', '__format__', '__getattribute__', '__hash__', '__init__', '__module__', '__new__', '__reduce__', '__reduce_ex__', '__repr__', '__setattr__', '__sizeof__', '__str__', '__subclasshook__', '__weakref__', 'travel']\n",
      "Hi\n",
      "Hi\n",
      "hello\n",
      "hello\n"
     ]
    }
   ],
   "source": [
    "# New style classes\n",
    "\n",
    "class Vehicle(object):\n",
    "    '''\n",
    "    This is a general class of vehicle\n",
    "    '''\n",
    "    \n",
    "    def travel(self):\n",
    "        print 'travelling'\n",
    "        \n",
    "class Surface_Vehicles(Vehicle, object):\n",
    "    def __init__(self, color, fuel):\n",
    "        self.color = color\n",
    "        self.fuel = fuel\n",
    "        \n",
    "    def get_wheel_count(self):\n",
    "        return 4\n",
    "    def get_mileage(self):\n",
    "        if self.fuel == 'diesel':\n",
    "            return 25\n",
    "        else:\n",
    "            return 15\n",
    "    def get_travel_cost(self, distance):\n",
    "        #get fule needed\n",
    "        fuel_needed = distance/get_mileage(self)\n",
    "        cost = fuel_needed * __get_fuel_cost(self.fuel)\n",
    "        \n",
    "    @classmethod\n",
    "    def greet(cls):\n",
    "        print \"hello\"\n",
    "    \n",
    "    @staticmethod\n",
    "    def another_greet():\n",
    "        print \"Hi\"\n",
    "        \n",
    "    \n",
    "    def __get_fuel_cost(fuel_type):\n",
    "        pass\n",
    "    \n",
    "    def another_util_function():\n",
    "        pass\n",
    "        \n",
    "m_800 = Vehicle()\n",
    "print type(m_800)\n",
    "#help(m_800)\n",
    "print dir(m_800)\n",
    "#print dir(Vehicle)\n",
    "\n",
    "\n",
    "m_801 = Surface_Vehicles('white', 'diesel')\n",
    "m_802 = Surface_Vehicles('blue', 'petrol')\n",
    "# print type(m_801)\n",
    "\n",
    "# print \"*\"*50\n",
    "# print dir(m_801)\n",
    "# print dir(m_802)\n",
    "# print dir(Surface_Vehicles)\n",
    "\n",
    "# print isinstance(m_801, Surface_Vehicles)\n",
    "# print isinstance(m_801, Vehicle)\n",
    "\n",
    "# print m_801.get_wheel_count()\n",
    "\n",
    "# print m_800.__doc__\n",
    "# print m_801.get_mileage()\n",
    "# print m_801.fuel\n",
    "# print m_801.__dict__\n",
    "\n",
    "# print m_802.get_mileage()\n",
    "# print m_802.fuel\n",
    "# print m_802.__dict__\n",
    "#m_801.__get_fuel_cost()\n",
    "\n",
    "m_801.another_greet() #static\n",
    "Surface_Vehicles.another_greet() #static\n",
    "\n",
    "Surface_Vehicles.greet() #class\n",
    "m_801.greet() #class"
   ]
  },
  {
   "cell_type": "code",
   "execution_count": 8,
   "metadata": {
    "collapsed": false
   },
   "outputs": [
    {
     "name": "stdout",
     "output_type": "stream",
     "text": [
      "{}\n"
     ]
    }
   ],
   "source": [
    "class Test(object):\n",
    "    x = 10\n",
    "    \n",
    "    def greet(self):\n",
    "        print \"Hello\"\n",
    "        \n",
    "        \n",
    "test1 = Test()\n",
    "\n",
    "print test1.__dict__"
   ]
  },
  {
   "cell_type": "code",
   "execution_count": 9,
   "metadata": {
    "collapsed": false
   },
   "outputs": [
    {
     "data": {
      "text/plain": [
       "<dictproxy {'__dict__': <attribute '__dict__' of 'Test' objects>,\n",
       " '__doc__': None,\n",
       " '__module__': '__main__',\n",
       " '__weakref__': <attribute '__weakref__' of 'Test' objects>,\n",
       " 'greet': <function __main__.greet>,\n",
       " 'x': 10}>"
      ]
     },
     "execution_count": 9,
     "metadata": {},
     "output_type": "execute_result"
    }
   ],
   "source": [
    "Test.__dict__"
   ]
  },
  {
   "cell_type": "code",
   "execution_count": 10,
   "metadata": {
    "collapsed": false
   },
   "outputs": [
    {
     "data": {
      "text/plain": [
       "__main__.Test"
      ]
     },
     "execution_count": 10,
     "metadata": {},
     "output_type": "execute_result"
    }
   ],
   "source": [
    "test1.__class__"
   ]
  },
  {
   "cell_type": "code",
   "execution_count": 11,
   "metadata": {
    "collapsed": false
   },
   "outputs": [
    {
     "data": {
      "text/plain": [
       "10"
      ]
     },
     "execution_count": 11,
     "metadata": {},
     "output_type": "execute_result"
    }
   ],
   "source": [
    "test1.__class__.x"
   ]
  }
 ],
 "metadata": {
  "kernelspec": {
   "display_name": "Python 2",
   "language": "python",
   "name": "python2"
  },
  "language_info": {
   "codemirror_mode": {
    "name": "ipython",
    "version": 2
   },
   "file_extension": ".py",
   "mimetype": "text/x-python",
   "name": "python",
   "nbconvert_exporter": "python",
   "pygments_lexer": "ipython2",
   "version": "2.7.6"
  }
 },
 "nbformat": 4,
 "nbformat_minor": 0
}
