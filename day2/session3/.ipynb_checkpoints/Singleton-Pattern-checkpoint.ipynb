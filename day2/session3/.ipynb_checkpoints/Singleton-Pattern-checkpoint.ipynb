{
 "cells": [
  {
   "cell_type": "markdown",
   "metadata": {},
   "source": [
    "<h2>Singleton Pattern</h2>\n",
    "<p>The singleton design pattern is a creational design pattern which makes sure that you have one single instance of a particular class in the duration of your runtime, and provides a global point of access to the single instance.</p>\n",
    "<p>This makes it easier to set up a point of “coordination” for other objects that use the singleton instance as well, since the singleton’s variables will always be the same for anything that calls it.</p>\n",
    "\n",
    "\n",
    "\n",
    "<p>Possibly the simplest design pattern is the singleton, which is a way to provide one and only one object of a particular type. To accomplish this, you must take control of object creation out of the hands of the programmer. One convenient way to do this is to delegate to a single instance of a private nested inner class:</p>"
   ]
  },
  {
   "cell_type": "code",
   "execution_count": 2,
   "metadata": {
    "collapsed": false
   },
   "outputs": [
    {
     "name": "stdout",
     "output_type": "stream",
     "text": [
      "<__main__.__OnlyOne instance at 0x103bad098>sausage\n",
      "<__main__.__OnlyOne instance at 0x103bad098>eggs\n",
      "<__main__.__OnlyOne instance at 0x103bad098>spam\n",
      "<__main__.__OnlyOne instance at 0x103bad098>spam\n",
      "<__main__.__OnlyOne instance at 0x103bad098>spam\n",
      "<__main__.OnlyOne instance at 0x103bb2098>\n",
      "<__main__.OnlyOne instance at 0x103bb8cb0>\n",
      "<__main__.OnlyOne instance at 0x103baddd0>\n"
     ]
    }
   ],
   "source": [
    "class OnlyOne:\n",
    "    class __OnlyOne:\n",
    "        def __init__(self, arg):\n",
    "            self.val = arg\n",
    "        def __str__(self):\n",
    "            return repr(self) + self.val\n",
    "    instance = None\n",
    "    def __init__(self, arg):\n",
    "        if not OnlyOne.instance:\n",
    "            OnlyOne.instance = OnlyOne.__OnlyOne(arg)\n",
    "        else:\n",
    "            OnlyOne.instance.val = arg\n",
    "    def __getattr__(self, name):\n",
    "        return getattr(self.instance, name)\n",
    "\n",
    "x = OnlyOne('sausage')\n",
    "print(x)\n",
    "y = OnlyOne('eggs')\n",
    "print(y)\n",
    "z = OnlyOne('spam')\n",
    "print(z)\n",
    "print(x)\n",
    "print(y)\n",
    "print(`x`)\n",
    "print(`y`)\n",
    "print(`z`)"
   ]
  },
  {
   "cell_type": "code",
   "execution_count": 6,
   "metadata": {
    "collapsed": false
   },
   "outputs": [
    {
     "name": "stdout",
     "output_type": "stream",
     "text": [
      "<__main__.OnlyOne object at 0x103c72910>sausage\n",
      "<__main__.OnlyOne object at 0x103c72910>sausage\n",
      "<__main__.OnlyOne object at 0x103c72910>sausage\n",
      "<__main__.OnlyOne object at 0x103c72910>sausage\n",
      "<__main__.OnlyOne object at 0x103c72910>sausage\n",
      "<__main__.OnlyOne object at 0x103c72910>\n",
      "<__main__.OnlyOne object at 0x103c72910>\n",
      "<__main__.OnlyOne object at 0x103c72910>\n"
     ]
    }
   ],
   "source": [
    "class Singleton(type):\n",
    "    def __init__(cls, name, bases, dict):\n",
    "        super(Singleton, cls).__init__(name, bases, dict)\n",
    "        cls.instance = None \n",
    "\n",
    "    def __call__(cls,*args,**kw):\n",
    "        if cls.instance is None:\n",
    "            cls.instance = super(Singleton, cls).__call__(*args, **kw)\n",
    "        return cls.instance\n",
    "\n",
    "class OnlyOne(object):\n",
    "    __metaclass__=Singleton\n",
    "    def __init__(self, val=None):\n",
    "        self.val = val\n",
    "    def __str__(self):\n",
    "        return `self` + self.val\n",
    "    \n",
    "x = OnlyOne('sausage')\n",
    "print(x)\n",
    "y = OnlyOne('eggs')\n",
    "print(y)\n",
    "z = OnlyOne('spam')\n",
    "print(z)\n",
    "print(x)\n",
    "print(y)\n",
    "print(`x`)\n",
    "print(`y`)\n",
    "print(`z`)"
   ]
  },
  {
   "cell_type": "code",
   "execution_count": null,
   "metadata": {
    "collapsed": true
   },
   "outputs": [],
   "source": []
  }
 ],
 "metadata": {
  "kernelspec": {
   "display_name": "Python 2",
   "language": "python",
   "name": "python2"
  },
  "language_info": {
   "codemirror_mode": {
    "name": "ipython",
    "version": 2
   },
   "file_extension": ".py",
   "mimetype": "text/x-python",
   "name": "python",
   "nbconvert_exporter": "python",
   "pygments_lexer": "ipython2",
   "version": "2.7.6"
  }
 },
 "nbformat": 4,
 "nbformat_minor": 0
}
