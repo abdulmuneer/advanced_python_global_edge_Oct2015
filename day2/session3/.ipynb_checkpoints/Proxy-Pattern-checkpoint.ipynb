{
 "cells": [
  {
   "cell_type": "markdown",
   "metadata": {},
   "source": [
    "Proxy is a class functioning as interface to another class. \n",
    "\n",
    "Most known application for Proxy design pattern is reference counting, but it can be used in numerous other situations like:\n",
    "\n",
    "- defining an interface for class \n",
    "- hiding some parts of the base class. \n",
    "\n",
    "Proxy comes very handy when you need to prevent lazy user to use your class in a wrong way."
   ]
  },
  {
   "cell_type": "code",
   "execution_count": 1,
   "metadata": {
    "collapsed": true
   },
   "outputs": [],
   "source": [
    "class Foo(object):\n",
    "    def first(self):\n",
    "        print 'First method'\n",
    "\n",
    "    def second(self):\n",
    "        print 'Second method'"
   ]
  },
  {
   "cell_type": "markdown",
   "metadata": {},
   "source": [
    "####A Proxy must pass method calls to base class."
   ]
  },
  {
   "cell_type": "code",
   "execution_count": 2,
   "metadata": {
    "collapsed": true
   },
   "outputs": [],
   "source": [
    "class Proxy(object):\n",
    "    def __init__(self, target):\n",
    "        self.target = target\n",
    "\n",
    "    def __getattr__(self, attr):\n",
    "        return getattr(self.target, attr)"
   ]
  },
  {
   "cell_type": "code",
   "execution_count": 3,
   "metadata": {
    "collapsed": true
   },
   "outputs": [],
   "source": [
    "class FooProxy(Proxy):\n",
    "    def second(self):\n",
    "        pass"
   ]
  },
  {
   "cell_type": "code",
   "execution_count": 4,
   "metadata": {
    "collapsed": true
   },
   "outputs": [],
   "source": [
    "f = Foo()"
   ]
  },
  {
   "cell_type": "code",
   "execution_count": 6,
   "metadata": {
    "collapsed": false
   },
   "outputs": [
    {
     "name": "stdout",
     "output_type": "stream",
     "text": [
      "First method\n",
      "Second method\n"
     ]
    }
   ],
   "source": [
    "f.first()\n",
    "f.second()"
   ]
  },
  {
   "cell_type": "code",
   "execution_count": 7,
   "metadata": {
    "collapsed": true
   },
   "outputs": [],
   "source": [
    "fp = FooProxy(f)\n"
   ]
  },
  {
   "cell_type": "code",
   "execution_count": 8,
   "metadata": {
    "collapsed": false
   },
   "outputs": [
    {
     "name": "stdout",
     "output_type": "stream",
     "text": [
      "First method\n"
     ]
    }
   ],
   "source": [
    "fp.first()"
   ]
  },
  {
   "cell_type": "code",
   "execution_count": 9,
   "metadata": {
    "collapsed": true
   },
   "outputs": [],
   "source": [
    "fp.second()"
   ]
  },
  {
   "cell_type": "markdown",
   "metadata": {},
   "source": [
    "\n",
    ".\n",
    "\n",
    ".\n",
    "\n",
    ".\n",
    "\n",
    ".\n",
    "\n",
    ".\n",
    "\n",
    ".\n",
    "\n",
    ".\n",
    "\n",
    ".\n",
    "\n",
    "####why didn't we just inherit the Foo class and override the second method?\n",
    "\n",
    ".\n",
    "\n",
    ".\n",
    "\n",
    ".\n",
    "\n",
    ".\n",
    "\n",
    ".\n",
    "\n",
    ".\n",
    "\n",
    ".\n",
    "\n",
    ".\n",
    "\n",
    "We would need to make some kind of copy constructor to copy data from base class and then we would have two nearly identical objects in memory, and that is not what we wanted in the first place. Proxy must serve just as mediator to base class.\n"
   ]
  },
  {
   "cell_type": "markdown",
   "metadata": {},
   "source": []
  }
 ],
 "metadata": {
  "kernelspec": {
   "display_name": "Python 2",
   "language": "python",
   "name": "python2"
  },
  "language_info": {
   "codemirror_mode": {
    "name": "ipython",
    "version": 2
   },
   "file_extension": ".py",
   "mimetype": "text/x-python",
   "name": "python",
   "nbconvert_exporter": "python",
   "pygments_lexer": "ipython2",
   "version": "2.7.10"
  }
 },
 "nbformat": 4,
 "nbformat_minor": 0
}
