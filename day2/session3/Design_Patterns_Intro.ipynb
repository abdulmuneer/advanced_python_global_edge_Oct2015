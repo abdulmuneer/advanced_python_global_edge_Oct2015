{
 "cells": [
  {
   "cell_type": "markdown",
   "metadata": {},
   "source": [
    "###Design Patterns\n",
    "* Design patterns are optimized, reusable solutions to the programming problems that we encounter every day. \n",
    "\n",
    "* It is a template that has to be implemented in the correct situation. It’s not language-specific. \n",
    "\n",
    "* A pattern embodies a complete idea within a program\n",
    "\n",
    "\n",
    "\n",
    "There are three basic kinds of design patterns:\n",
    "\n",
    "1. <b>Structural patterns</b> generally deal with relationships between entities, making it easier for these entities to work together.\n",
    "\n",
    "2. <b>Creational patterns</b> provide instantiation mechanisms, making it easier to create objects in a way that suits the situation.\n",
    "\n",
    "3. <b>Behavioral patterns</b> are used in communications between entities and make it easier and more flexible for these entities to communicate.\n"
   ]
  },
  {
   "cell_type": "markdown",
   "metadata": {},
   "source": []
  },
  {
   "cell_type": "code",
   "execution_count": null,
   "metadata": {
    "collapsed": true
   },
   "outputs": [],
   "source": []
  }
 ],
 "metadata": {
  "kernelspec": {
   "display_name": "Python 2",
   "language": "python",
   "name": "python2"
  },
  "language_info": {
   "codemirror_mode": {
    "name": "ipython",
    "version": 2
   },
   "file_extension": ".py",
   "mimetype": "text/x-python",
   "name": "python",
   "nbconvert_exporter": "python",
   "pygments_lexer": "ipython2",
   "version": "2.7.6"
  }
 },
 "nbformat": 4,
 "nbformat_minor": 0
}
