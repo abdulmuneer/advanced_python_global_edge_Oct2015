{
 "cells": [
  {
   "cell_type": "markdown",
   "metadata": {
    "collapsed": true
   },
   "source": [
    "<h2>Factory Method Pattern</h2>\n",
    "<p>The factory method pattern is a creational design pattern which does exactly as it sounds: it’s a class that acts as a factory of object instances.</p>\n",
    "<p>The main goal of this pattern is to encapsulate the creational procedure that may span different classes into one single function. By providing the correct context to the factory method, it will be able to return the correct object.</p>\n",
    "<h3>When can I use this?</h3>\n",
    "<p>The best time to use the factory method pattern is when you have multiple different variations of a single entity. Let’s say you have a button class; this class has different variations, such as ImageButton, InputButton and FlashButton. Depending on the place, you may need to create different buttons—this is where you can use a factory to create the buttons for you!</p>\n",
    "<p>Let’s begin by creating our three classes:</p>"
   ]
  },
  {
   "cell_type": "code",
   "execution_count": null,
   "metadata": {
    "collapsed": true
   },
   "outputs": [],
   "source": [
    "class Button(object):\n",
    "    html = \"\"\n",
    "    def get_html(self):\n",
    "        return self.html\n",
    "\n",
    "class Image(Button):\n",
    "    html = \"<img></img>\"\n",
    "\n",
    "class Input(Button):\n",
    "    html = \"<input></input>\"\n",
    "\n",
    "class Flash(Button):\n",
    "    html = \"<obj></obj>\""
   ]
  },
  {
   "cell_type": "markdown",
   "metadata": {},
   "source": [
    "This can be turned into a factory"
   ]
  },
  {
   "cell_type": "code",
   "execution_count": null,
   "metadata": {
    "collapsed": true
   },
   "outputs": [],
   "source": [
    "class ButtonFactory():\n",
    "    def create_button(self, typ):\n",
    "        targetclass = typ.capitalize()\n",
    "        return globals()[targetclass]()"
   ]
  },
  {
   "cell_type": "code",
   "execution_count": null,
   "metadata": {
    "collapsed": true
   },
   "outputs": [],
   "source": [
    "button_obj = ButtonFactory()\n",
    "button = ['image', 'input', 'flash']\n",
    "for b in button:\n",
    "    print button_obj.create_button(b).get_html()"
   ]
  }
 ],
 "metadata": {
  "kernelspec": {
   "display_name": "Python 2",
   "language": "python",
   "name": "python2"
  },
  "language_info": {
   "codemirror_mode": {
    "name": "ipython",
    "version": 2
   },
   "file_extension": ".py",
   "mimetype": "text/x-python",
   "name": "python",
   "nbconvert_exporter": "python",
   "pygments_lexer": "ipython2",
   "version": "2.7.10"
  }
 },
 "nbformat": 4,
 "nbformat_minor": 0
}
