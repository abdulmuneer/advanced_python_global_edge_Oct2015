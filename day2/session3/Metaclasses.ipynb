{
 "cells": [
  {
   "cell_type": "markdown",
   "metadata": {},
   "source": [
    "\n",
    "\n",
    "   <b> \"Metaclasses are deeper magic than 99% of users should ever worry about. If you wonder whether you need them, you don’t (the people who actually need them know with certainty that they need them, and don’t need an explanation about why)\".</b>\n",
    "\n",
    "    – Tim Peters\n"
   ]
  },
  {
   "cell_type": "markdown",
   "metadata": {},
   "source": [
    "<img src=../../resources/metaclass.png>"
   ]
  },
  {
   "cell_type": "markdown",
   "metadata": {},
   "source": [
    " ###<em>Everything</em> in python is an object: it turns out that this is true of <em>classes themselves</em>."
   ]
  },
  {
   "cell_type": "code",
   "execution_count": 3,
   "metadata": {
    "collapsed": true
   },
   "outputs": [],
   "source": [
    "class DoNothing(object):\n",
    "    pass"
   ]
  },
  {
   "cell_type": "code",
   "execution_count": 4,
   "metadata": {
    "collapsed": false
   },
   "outputs": [
    {
     "data": {
      "text/plain": [
       "__main__.DoNothing"
      ]
     },
     "execution_count": 4,
     "metadata": {},
     "output_type": "execute_result"
    }
   ],
   "source": [
    "d = DoNothing()\n",
    "type(d)"
   ]
  },
  {
   "cell_type": "code",
   "execution_count": 5,
   "metadata": {
    "collapsed": false
   },
   "outputs": [
    {
     "data": {
      "text/plain": [
       "list"
      ]
     },
     "execution_count": 5,
     "metadata": {},
     "output_type": "execute_result"
    }
   ],
   "source": [
    "L = [1, 2, 3]\n",
    "type(L)"
   ]
  },
  {
   "cell_type": "code",
   "execution_count": 6,
   "metadata": {
    "collapsed": false
   },
   "outputs": [
    {
     "data": {
      "text/plain": [
       "type"
      ]
     },
     "execution_count": 6,
     "metadata": {},
     "output_type": "execute_result"
    }
   ],
   "source": [
    "type(DoNothing)"
   ]
  },
  {
   "cell_type": "code",
   "execution_count": 7,
   "metadata": {
    "collapsed": false
   },
   "outputs": [
    {
     "data": {
      "text/plain": [
       "(type, type, type, type)"
      ]
     },
     "execution_count": 7,
     "metadata": {},
     "output_type": "execute_result"
    }
   ],
   "source": [
    "type(tuple), type(list), type(int), type(float)"
   ]
  },
  {
   "cell_type": "code",
   "execution_count": 8,
   "metadata": {
    "collapsed": false
   },
   "outputs": [
    {
     "data": {
      "text/plain": [
       "type"
      ]
     },
     "execution_count": 8,
     "metadata": {},
     "output_type": "execute_result"
    }
   ],
   "source": [
    "type(type)"
   ]
  },
  {
   "cell_type": "markdown",
   "metadata": {},
   "source": [
    "###<em>classes are objects</em>, and they are objects of type <em>```type```</em>\n",
    "####<code>type</code> is a <em>metaclass</em>: a class which instantiates classes."
   ]
  },
  {
   "cell_type": "markdown",
   "metadata": {},
   "source": [
    ".\n",
    "\n",
    ".\n",
    "\n",
    ".\n",
    "\n",
    ".\n",
    "\n",
    ".\n",
    "\n",
    ".\n",
    "\n",
    ".\n",
    "\n",
    ".\n",
    "\n",
    "."
   ]
  },
  {
   "cell_type": "markdown",
   "metadata": {},
   "source": [
    "###Metaprogramming: Creating Classes on the Fly"
   ]
  },
  {
   "cell_type": "markdown",
   "metadata": {},
   "source": [
    "What does a typical function do?\n",
    "\n",
    " Take some arguments, do some operations, and create & return an object. \n",
    " \n",
    " \n",
    "Then it should be possible to create an object of type <em>type</em> (that is, a class), and returning that\n",
    "\n",
    "\n",
    " "
   ]
  },
  {
   "cell_type": "markdown",
   "metadata": {},
   "source": [
    ".\n",
    "\n",
    ".\n",
    "\n",
    ".\n",
    "\n",
    ".\n",
    "\n",
    ".\n",
    "\n",
    "."
   ]
  },
  {
   "cell_type": "code",
   "execution_count": 9,
   "metadata": {
    "collapsed": false
   },
   "outputs": [
    {
     "name": "stdout",
     "output_type": "stream",
     "text": [
      "<class '__main__.Foo'>\n"
     ]
    }
   ],
   "source": [
    "def class_factory():\n",
    "    class Foo(object):\n",
    "        pass\n",
    "    return Foo\n",
    "\n",
    "F = class_factory()\n",
    "f = F()\n",
    "print(type(f))"
   ]
  },
  {
   "cell_type": "markdown",
   "metadata": {},
   "source": [
    "We can accomplish this by instantiating Foo from type directly."
   ]
  },
  {
   "cell_type": "markdown",
   "metadata": {},
   "source": [
    "help(type)\n",
    "\n",
    "Help on class type in module __builtin__:\n",
    "\n",
    "class type(object)\n",
    " -  type(object) -> the object's type\n",
    " \n",
    " -  type(name, bases, dict) -> a new type"
   ]
  },
  {
   "cell_type": "code",
   "execution_count": null,
   "metadata": {
    "collapsed": true
   },
   "outputs": [],
   "source": [
    "class MyClass(object):\n",
    "    pass"
   ]
  },
  {
   "cell_type": "code",
   "execution_count": null,
   "metadata": {
    "collapsed": true
   },
   "outputs": [],
   "source": [
    "MyClass = type('MyClass', (), {})"
   ]
  },
  {
   "cell_type": "markdown",
   "metadata": {},
   "source": [
    "type(name, bases, dct)\n",
    "\n",
    "<ul>\n",
    "<li><code>name</code> is a string giving the name of the class to be constructed</li>\n",
    "<li><code>bases</code> is a tuple giving the parent classes of the class to be constructed</li>\n",
    "<li><code>dct</code> is a dictionary of the attributes and methods of the class to be constructed</li>\n",
    "</ul>"
   ]
  },
  {
   "cell_type": "code",
   "execution_count": 10,
   "metadata": {
    "collapsed": false
   },
   "outputs": [
    {
     "name": "stdout",
     "output_type": "stream",
     "text": [
      "4\n"
     ]
    }
   ],
   "source": [
    "\n",
    "\n",
    "class Foo(object):\n",
    "    i = 4\n",
    "\n",
    "class Bar(Foo):\n",
    "    def get_i(self):\n",
    "        return self.i\n",
    "    \n",
    "b = Bar()\n",
    "print(b.get_i())\n",
    "\n"
   ]
  },
  {
   "cell_type": "code",
   "execution_count": 11,
   "metadata": {
    "collapsed": false
   },
   "outputs": [
    {
     "name": "stdout",
     "output_type": "stream",
     "text": [
      "4\n"
     ]
    }
   ],
   "source": [
    "\n",
    "\n",
    "Foo = type('Foo', (), dict(i=4))\n",
    "\n",
    "Bar = type('Bar', (Foo,), dict(get_i = lambda self: self.i))\n",
    "\n",
    "b = Bar()\n",
    "print(b.get_i())\n",
    "\n"
   ]
  },
  {
   "cell_type": "markdown",
   "metadata": {},
   "source": [
    ".\n",
    "\n",
    ".\n",
    "\n",
    ".\n",
    "\n",
    ".\n",
    "\n",
    ".\n",
    "\n",
    ".\n",
    "\n",
    ".\n",
    "\n",
    ".\n",
    "\n",
    ".\n",
    "\n"
   ]
  },
  {
   "cell_type": "markdown",
   "metadata": {},
   "source": [
    "####Just as we can inherit from and extend a class we've created, we can also:\n",
    "        \n",
    "        - inherit from and extend the type metaclass\n",
    "        - create custom behavior in our metaclass \n",
    "        - fry our brains.."
   ]
  },
  {
   "cell_type": "markdown",
   "metadata": {},
   "source": [
    ".\n",
    "\n",
    ".\n",
    "\n",
    ".\n",
    "\n",
    ".\n",
    "\n",
    ".\n",
    "\n",
    "."
   ]
  },
  {
   "cell_type": "code",
   "execution_count": 12,
   "metadata": {
    "collapsed": true
   },
   "outputs": [],
   "source": [
    "class InterfaceMeta(type):\n",
    "    def __new__(cls, name, parents, dct):\n",
    "        # create a class_id if it's not specified\n",
    "        if 'class_id' not in dct:\n",
    "            dct['class_id'] = name.lower()\n",
    "        \n",
    "        # open the specified file for writing\n",
    "        if 'file' in dct:\n",
    "            filename = dct['file']\n",
    "            dct['file'] = open(filename, 'w')\n",
    "        \n",
    "        # we need to call type.__new__ to complete the initialization\n",
    "        return super(InterfaceMeta, cls).__new__(cls, name, parents, dct)"
   ]
  },
  {
   "cell_type": "code",
   "execution_count": 13,
   "metadata": {
    "collapsed": false
   },
   "outputs": [
    {
     "name": "stdout",
     "output_type": "stream",
     "text": [
      "interface\n",
      "<open file 'tmp.txt', mode 'w' at 0x7f384c7da930>\n"
     ]
    }
   ],
   "source": [
    "Interface = InterfaceMeta('Interface', (), dict(file='tmp.txt'))\n",
    "\n",
    "print(Interface.class_id)\n",
    "print(Interface.file)"
   ]
  },
  {
   "cell_type": "code",
   "execution_count": 14,
   "metadata": {
    "collapsed": false
   },
   "outputs": [
    {
     "name": "stdout",
     "output_type": "stream",
     "text": [
      "interface\n",
      "<open file 'tmp1.txt', mode 'w' at 0x7f384c7dac00>\n"
     ]
    }
   ],
   "source": [
    "class Interface(object):\n",
    "    __metaclass__ = InterfaceMeta\n",
    "    file = 'tmp1.txt'\n",
    "    \n",
    "print(Interface.class_id)\n",
    "print(Interface.file)\n",
    "\n"
   ]
  },
  {
   "cell_type": "code",
   "execution_count": 15,
   "metadata": {
    "collapsed": false
   },
   "outputs": [
    {
     "data": {
      "text/plain": [
       "__main__.InterfaceMeta"
      ]
     },
     "execution_count": 15,
     "metadata": {},
     "output_type": "execute_result"
    }
   ],
   "source": [
    "type(Interface)"
   ]
  },
  {
   "cell_type": "markdown",
   "metadata": {},
   "source": [
    "####Another example: Registering Subclasses"
   ]
  },
  {
   "cell_type": "code",
   "execution_count": 16,
   "metadata": {
    "collapsed": true
   },
   "outputs": [],
   "source": [
    "\n",
    "\n",
    "class DBInterfaceMeta(type):\n",
    "    # we use __init__ rather than __new__ here because we want\n",
    "    # to modify attributes of the class *after* they have been\n",
    "    # created\n",
    "    def __init__(cls, name, bases, dct):\n",
    "        if not hasattr(cls, 'registry'):\n",
    "            # this is the base class.  Create an empty registry\n",
    "            cls.registry = {}\n",
    "        else:\n",
    "            # this is a derived class.  Add cls to the registry\n",
    "            interface_id = name.lower()\n",
    "            cls.registry[interface_id] = cls\n",
    "            \n",
    "        super(DBInterfaceMeta, cls).__init__(name, bases, dct)\n",
    "\n"
   ]
  },
  {
   "cell_type": "code",
   "execution_count": 17,
   "metadata": {
    "collapsed": false
   },
   "outputs": [
    {
     "name": "stdout",
     "output_type": "stream",
     "text": [
      "{}\n"
     ]
    }
   ],
   "source": [
    "class DBInterface(object):\n",
    "    __metaclass__ = DBInterfaceMeta\n",
    "    \n",
    "print(DBInterface.registry)"
   ]
  },
  {
   "cell_type": "code",
   "execution_count": 18,
   "metadata": {
    "collapsed": false
   },
   "outputs": [
    {
     "name": "stdout",
     "output_type": "stream",
     "text": [
      "{'firstinterface': <class '__main__.FirstInterface'>, 'secondinterface': <class '__main__.SecondInterface'>, 'secondinterfacemodified': <class '__main__.SecondInterfaceModified'>}\n"
     ]
    }
   ],
   "source": [
    "class FirstInterface(DBInterface):\n",
    "    pass\n",
    "\n",
    "class SecondInterface(DBInterface):\n",
    "    pass\n",
    "\n",
    "class SecondInterfaceModified(SecondInterface):\n",
    "    pass\n",
    "\n",
    "print(DBInterface.registry)"
   ]
  },
  {
   "cell_type": "markdown",
   "metadata": {},
   "source": [
    "e.g.: https://github.com/django/django/blob/master/django/db/models/base.py"
   ]
  }
 ],
 "metadata": {
  "kernelspec": {
   "display_name": "Python 2",
   "language": "python",
   "name": "python2"
  },
  "language_info": {
   "codemirror_mode": {
    "name": "ipython",
    "version": 2
   },
   "file_extension": ".py",
   "mimetype": "text/x-python",
   "name": "python",
   "nbconvert_exporter": "python",
   "pygments_lexer": "ipython2",
   "version": "2.7.6"
  }
 },
 "nbformat": 4,
 "nbformat_minor": 0
}
