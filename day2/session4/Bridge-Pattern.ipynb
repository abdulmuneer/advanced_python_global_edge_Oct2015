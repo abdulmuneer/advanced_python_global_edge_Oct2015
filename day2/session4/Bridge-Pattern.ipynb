{
 "cells": [
  {
   "cell_type": "markdown",
   "metadata": {},
   "source": [
    "###Bridge Pattern:\n",
    "\n",
    "- Decouple an abstraction from its implementation so that the two can vary independently.\n",
    "\n",
    "The approach is to create two independent class hierarchies: the “abstract” one defining the operations (e.g., the interface and high-level algorithms) and the concrete one providing the implementations that the abstract operations will ultimately call. \n",
    "\n",
    "The “abstract” class aggregates an instance of one of the concrete implementation classes—and this instance serves as a bridge between the abstract interface and the concrete operations."
   ]
  },
  {
   "cell_type": "code",
   "execution_count": 1,
   "metadata": {
    "collapsed": false
   },
   "outputs": [
    {
     "name": "stdout",
     "output_type": "stream",
     "text": [
      "UseCase1:  Linux!\n",
      "UseCase1:  Windows.\n",
      "UseCase2:  Linux!\n",
      "UseCase2:  Windows.\n"
     ]
    }
   ],
   "source": [
    "class AbstractInterface:\n",
    "\n",
    "    \"\"\" Target interface.\n",
    "    This is the target interface, that clients use.\n",
    "    \"\"\"\n",
    "\n",
    "    def someFunctionality(self):\n",
    "        raise NotImplemented()\n",
    "\n",
    "\n",
    "class Bridge(AbstractInterface):\n",
    "\n",
    "    \"\"\" Bridge class.\n",
    "    \n",
    "    This class forms a bridge between the target\n",
    "    interface and background implementation.\n",
    "    \"\"\"\n",
    "\n",
    "    def __init__(self):\n",
    "        self.__implementation = None\n",
    "\n",
    "\n",
    "class UseCase1(Bridge):\n",
    "\n",
    "    \"\"\" Variant of the target interface.\n",
    "    This is a variant of the target Abstract interface.\n",
    "    It can do something little differently and it can\n",
    "    also use various background implementations through\n",
    "    the bridge.\n",
    "    \"\"\"\n",
    "    \n",
    "    def __init__(self, implementation):\n",
    "        self.__implementation = implementation\n",
    "\n",
    "    def someFunctionality(self):\n",
    "        print \"UseCase1: \",\n",
    "        self.__implementation.anotherFunctionality()\n",
    "\n",
    "\n",
    "class UseCase2(Bridge):\n",
    "    def __init__(self, implementation):\n",
    "        self.__implementation = implementation\n",
    "\n",
    "    def someFunctionality(self):\n",
    "        print \"UseCase2: \",\n",
    "        self.__implementation.anotherFunctionality()\n",
    "\n",
    "\n",
    "class ImplementationInterface:\n",
    "    \n",
    "    \"\"\" Interface for the background implementation.\n",
    "    This class defines how the Bridge communicates\n",
    "    with various background implementations.\n",
    "    \"\"\"\n",
    "\n",
    "    def anotherFunctionality(self):\n",
    "        raise NotImplemented\n",
    "\n",
    "class Linux(ImplementationInterface):\n",
    "\n",
    "    \"\"\" Concrete background implementation.\n",
    "    A variant of background implementation, in this\n",
    "    case for Linux!\n",
    "    \"\"\"\n",
    "\n",
    "    def anotherFunctionality(self):\n",
    "        print \"Linux!\"\n",
    "\n",
    "\n",
    "class Windows(ImplementationInterface):\n",
    "    def anotherFunctionality(self):\n",
    "        print \"Windows.\"\n",
    "\n",
    "\n",
    "def main():\n",
    "    linux = Linux()\n",
    "    windows = Windows()\n",
    "\n",
    "    # Couple of variants under a couple\n",
    "    # of operating systems.\n",
    "    useCase = UseCase1(linux)\n",
    "    useCase.someFunctionality()\n",
    "\n",
    "    useCase = UseCase1(windows)\n",
    "    useCase.someFunctionality()\n",
    "\n",
    "    useCase = UseCase2(linux)\n",
    "    useCase.someFunctionality()\n",
    "\n",
    "    useCase = UseCase2(windows)\n",
    "    useCase.someFunctionality()\n",
    "\n",
    "\n",
    "if __name__ == \"__main__\":\n",
    "    main()"
   ]
  },
  {
   "cell_type": "code",
   "execution_count": 4,
   "metadata": {
    "collapsed": false
   },
   "outputs": [
    {
     "name": "stdout",
     "output_type": "stream",
     "text": [
      "abc/def\n"
     ]
    }
   ],
   "source": [
    "import os\n",
    "x = os.path.join('abc', 'def')\n",
    "print x"
   ]
  },
  {
   "cell_type": "code",
   "execution_count": null,
   "metadata": {
    "collapsed": true
   },
   "outputs": [],
   "source": []
  }
 ],
 "metadata": {
  "kernelspec": {
   "display_name": "Python 2",
   "language": "python",
   "name": "python2"
  },
  "language_info": {
   "codemirror_mode": {
    "name": "ipython",
    "version": 2
   },
   "file_extension": ".py",
   "mimetype": "text/x-python",
   "name": "python",
   "nbconvert_exporter": "python",
   "pygments_lexer": "ipython2",
   "version": "2.7.6"
  }
 },
 "nbformat": 4,
 "nbformat_minor": 0
}
