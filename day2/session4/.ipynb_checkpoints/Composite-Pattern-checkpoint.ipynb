{
 "cells": [
  {
   "cell_type": "markdown",
   "metadata": {},
   "source": [
    "The composite pattern describes that a group of objects is to be treated in the same way as a single instance of an object. \n",
    "\n",
    "The intent of a composite is to \"compose\" objects into tree structures to represent part-whole hierarchies. Implementing the composite pattern lets clients treat individual objects and compositions uniformly."
   ]
  },
  {
   "cell_type": "code",
   "execution_count": null,
   "metadata": {
    "collapsed": true
   },
   "outputs": [],
   "source": [
    "class Component(object):\n",
    "    def __init__(self, *args, **kw):\n",
    "        pass\n",
    "\n",
    "    def component_function(self):\n",
    "        pass\n",
    "\n",
    "\n",
    "class Leaf(Component):\n",
    "    def __init__(self, *args, **kw):\n",
    "        Component.__init__(self, *args, **kw)\n",
    "\n",
    "    def component_function(self):\n",
    "        print \"some function\"\n",
    "\n",
    "\n",
    "class Composite(Component):\n",
    "    def __init__(self, *args, **kw):\n",
    "        Component.__init__(self, *args, **kw)\n",
    "        self.children = []\n",
    "\n",
    "    def append_child(self, child):\n",
    "        self.children.append(child)\n",
    "\n",
    "    def remove_child(self, child):\n",
    "        self.children.remove(child)\n",
    "\n",
    "    def component_function(self):\n",
    "        map(lambda x: x.component_function(), self.children)\n",
    "\n",
    "c = Composite()\n",
    "l = Leaf()\n",
    "l_two = Leaf()\n",
    "c.append_child(l)\n",
    "c.append_child(l_two)\n",
    "c.component_function()"
   ]
  }
 ],
 "metadata": {
  "kernelspec": {
   "display_name": "Python 2",
   "language": "python",
   "name": "python2"
  },
  "language_info": {
   "codemirror_mode": {
    "name": "ipython",
    "version": 2
   },
   "file_extension": ".py",
   "mimetype": "text/x-python",
   "name": "python",
   "nbconvert_exporter": "python",
   "pygments_lexer": "ipython2",
   "version": "2.7.10"
  }
 },
 "nbformat": 4,
 "nbformat_minor": 0
}
