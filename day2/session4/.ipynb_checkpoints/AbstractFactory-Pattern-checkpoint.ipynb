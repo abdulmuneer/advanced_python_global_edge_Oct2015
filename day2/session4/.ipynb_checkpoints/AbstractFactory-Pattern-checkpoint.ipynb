{
 "cells": [
  {
   "cell_type": "markdown",
   "metadata": {},
   "source": [
    "###What are Abstract Base Classes??\n",
    "\n",
    "- a form of interface checking more strict than individual hasattr() checks for particular methods.\n",
    "- By defining an abstract base class, you can define a common API for a set of subclasses.\n",
    "\n",
    "This capability is especially useful in situations where a third-party is going to provide implementations, such as with plugins to an application, but can also aid you when working on a large team or with a large code-base where keeping all classes in your head at the same time is difficult or not possible.\n",
    "\n",
    "* abc works by marking methods of the base class as abstract, and then registering concrete classes as implementations of the abstract base. \n",
    "\n",
    "If your code requires a particular API, you can use issubclass() or isinstance() to check an object against the abstract class."
   ]
  },
  {
   "cell_type": "code",
   "execution_count": 1,
   "metadata": {
    "collapsed": true
   },
   "outputs": [],
   "source": [
    "import abc\n",
    "\n",
    "class PluginBase(object):\n",
    "    __metaclass__ = abc.ABCMeta\n",
    "    \n",
    "    @abc.abstractmethod\n",
    "    def load(self, input):\n",
    "        \"\"\"Retrieve data from the input source and return an object.\"\"\"\n",
    "        return\n",
    "    \n",
    "    @abc.abstractmethod\n",
    "    def save(self, output, data):\n",
    "        \"\"\"Save the data object to the output.\"\"\"\n",
    "        return"
   ]
  },
  {
   "cell_type": "code",
   "execution_count": 2,
   "metadata": {
    "collapsed": false
   },
   "outputs": [
    {
     "ename": "TypeError",
     "evalue": "Can't instantiate abstract class PluginBase with abstract methods load, save",
     "output_type": "error",
     "traceback": [
      "\u001b[0;31m---------------------------------------------------------------------------\u001b[0m",
      "\u001b[0;31mTypeError\u001b[0m                                 Traceback (most recent call last)",
      "\u001b[0;32m<ipython-input-2-4e1c183d2d3f>\u001b[0m in \u001b[0;36m<module>\u001b[0;34m()\u001b[0m\n\u001b[0;32m----> 1\u001b[0;31m \u001b[0mx\u001b[0m \u001b[0;34m=\u001b[0m \u001b[0mPluginBase\u001b[0m\u001b[0;34m(\u001b[0m\u001b[0;34m)\u001b[0m\u001b[0;34m\u001b[0m\u001b[0m\n\u001b[0m",
      "\u001b[0;31mTypeError\u001b[0m: Can't instantiate abstract class PluginBase with abstract methods load, save"
     ]
    }
   ],
   "source": [
    "x = PluginBase()"
   ]
  },
  {
   "cell_type": "markdown",
   "metadata": {},
   "source": [
    "####Registering a Concrete Class"
   ]
  },
  {
   "cell_type": "code",
   "execution_count": 4,
   "metadata": {
    "collapsed": false
   },
   "outputs": [
    {
     "name": "stdout",
     "output_type": "stream",
     "text": [
      "Subclass: True\n",
      "Instance: True\n"
     ]
    }
   ],
   "source": [
    "import abc\n",
    "\n",
    "class RegisteredImplementation(object):\n",
    "    \n",
    "    def load(self, input):\n",
    "        return input.read()\n",
    "    \n",
    "    def save(self, output, data):\n",
    "        return output.write(data)\n",
    "\n",
    "PluginBase.register(RegisteredImplementation)\n",
    "\n",
    "print 'Subclass:', issubclass(RegisteredImplementation, PluginBase)\n",
    "print 'Instance:', isinstance(RegisteredImplementation(), PluginBase)"
   ]
  },
  {
   "cell_type": "markdown",
   "metadata": {},
   "source": [
    "####Implementation Through Subclassing"
   ]
  },
  {
   "cell_type": "code",
   "execution_count": 7,
   "metadata": {
    "collapsed": false
   },
   "outputs": [
    {
     "name": "stdout",
     "output_type": "stream",
     "text": [
      "Subclass: True\n",
      "Instance: True\n"
     ]
    }
   ],
   "source": [
    "import abc\n",
    "class SubclassImplementation(PluginBase):\n",
    "    \n",
    "    def load(self, input):\n",
    "        return input.read()\n",
    "    \n",
    "    def save(self, output, data):\n",
    "        return output.write(data)\n",
    "\n",
    "print 'Subclass:', issubclass(SubclassImplementation, PluginBase)\n",
    "print 'Instance:', isinstance(SubclassImplementation(), PluginBase)"
   ]
  },
  {
   "cell_type": "markdown",
   "metadata": {},
   "source": [
    "####Example of Abstract Factory Pattern"
   ]
  },
  {
   "cell_type": "code",
   "execution_count": 10,
   "metadata": {
    "collapsed": false
   },
   "outputs": [],
   "source": [
    "import abc\n",
    "\n",
    "class AbstractSocialShare(object):\n",
    "    __metaclass__ = abc.ABCMeta\n",
    "\n",
    "    @abc.abstractmethod\n",
    "    def __init__(self, *args, **kwargs):\n",
    "        pass\n",
    "\n",
    "    @abc.abstractmethod\n",
    "    def share(self, *args, **kwargs):\n",
    "        pass\n",
    "\n",
    "\n",
    "class FacebookShare(AbstractSocialShare):\n",
    "    def __init__(self, *args, **kwargs):\n",
    "        # Initialize Facebook OAuth\n",
    "        pass\n",
    "\n",
    "    def share(self, *args, **kwargs):\n",
    "        # Share on Facebook\n",
    "        print 'share on facebook'\n",
    "\n",
    "\n",
    "class TwitterShare(AbstractSocialShare):\n",
    "    def __init__(self, *args, **kwargs):\n",
    "        # Initialize Twitter OAuth\n",
    "        pass\n",
    "\n",
    "    def share(self, *args, **kwargs):\n",
    "        # Share on Twitter\n",
    "        print 'share on facebook'\n"
   ]
  },
  {
   "cell_type": "code",
   "execution_count": 15,
   "metadata": {
    "collapsed": true
   },
   "outputs": [],
   "source": [
    "#AbstractFactory\n",
    "class SocialShareFactory(object):\n",
    "    __share_classes = {\n",
    "        \"facebook\": FacebookShare,\n",
    "        \"twitter\": TwitterShare\n",
    "    }\n",
    "\n",
    "    @staticmethod\n",
    "    def get_share_obj(name, *args, **kwargs):\n",
    "        share_class = SocialShareFactory.__share_classes.get(name.lower(), None)\n",
    "\n",
    "        if share_class:\n",
    "            return share_class(*args, **kwargs)\n",
    "        raise NotImplementedError(\"The requested sharing has not been implemented\")"
   ]
  },
  {
   "cell_type": "code",
   "execution_count": 16,
   "metadata": {
    "collapsed": false
   },
   "outputs": [
    {
     "name": "stdout",
     "output_type": "stream",
     "text": [
      "share on facebook\n"
     ]
    }
   ],
   "source": [
    "obj = SocialShareFactory().get_share_obj(\"facebook\")\n",
    "\n",
    "obj.share(\"Something\")"
   ]
  },
  {
   "cell_type": "code",
   "execution_count": null,
   "metadata": {
    "collapsed": true
   },
   "outputs": [],
   "source": []
  }
 ],
 "metadata": {
  "kernelspec": {
   "display_name": "Python 2",
   "language": "python",
   "name": "python2"
  },
  "language_info": {
   "codemirror_mode": {
    "name": "ipython",
    "version": 2
   },
   "file_extension": ".py",
   "mimetype": "text/x-python",
   "name": "python",
   "nbconvert_exporter": "python",
   "pygments_lexer": "ipython2",
   "version": "2.7.10"
  }
 },
 "nbformat": 4,
 "nbformat_minor": 0
}
