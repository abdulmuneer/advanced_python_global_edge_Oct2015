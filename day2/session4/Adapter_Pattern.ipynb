{
 "cells": [
  {
   "cell_type": "markdown",
   "metadata": {},
   "source": [
    "<h2>Adapter Pattern</h2>\n",
    "<p>The adapter pattern is a structural design pattern that allows you to repurpose a class with a different interface, allowing it to be used by a system which uses different calling methods.</p>\n",
    "<p>This also lets you alter some of the inputs being received from the client class, making it into something compatible with the adaptee’s functions.</p>\n"
   ]
  },
  {
   "cell_type": "markdown",
   "metadata": {},
   "source": [
    "<h3>How can I use this?</h3>\n",
    "<p>Another term to reference an adapter class is a wrapper, which basically lets you “wrap” actions into a class and reuse these actions in the correct situations. A classic example might be when you’re creating a domain class for table classes. Instead of calling the different table classes and calling up their functions one by one, you could encapsulate all of these methods into one method using an adapter class. This would not only allow you to reuse whatever action you want, it also keeps you from having to rewrite the code if you need to use the same action in a different place.</p>\n",
    "<p>Compare these two implementations.</p>\n",
    "<p><strong>Non-Adapter Approach<br>\n",
    "</strong></p>"
   ]
  },
  {
   "cell_type": "code",
   "execution_count": null,
   "metadata": {
    "collapsed": true
   },
   "outputs": [],
   "source": [
    "class User(object):\n",
    "    def create_or_update(self):\n",
    "        pass\n",
    "\n",
    "class Profile(object):\n",
    "    def create_or_update(self):\n",
    "        pass\n",
    "\n",
    "user = User()\n",
    "user.create_or_update()\n",
    " \n",
    "profile = Profile()\n",
    "profile.create_or_update()"
   ]
  },
  {
   "cell_type": "markdown",
   "metadata": {},
   "source": [
    "In this situation, we have a wrapper class, which would be our Account domain class:"
   ]
  },
  {
   "cell_type": "code",
   "execution_count": null,
   "metadata": {
    "collapsed": true
   },
   "outputs": [],
   "source": [
    "class User(object):\n",
    "    def create_or_update(self):\n",
    "        pass\n",
    "\n",
    "class Profile(object):\n",
    "    def create_or_update(self):\n",
    "        pass\n",
    "\n",
    "class Account():\n",
    "    def new_account(self):\n",
    "        user = User()\n",
    "        user.create_or_update()\n",
    " \n",
    "        profile = Profile()\n",
    "        profile.create_or_update()"
   ]
  },
  {
   "cell_type": "markdown",
   "metadata": {},
   "source": [
    "Now you could do:"
   ]
  },
  {
   "cell_type": "code",
   "execution_count": null,
   "metadata": {
    "collapsed": true
   },
   "outputs": [],
   "source": [
    "account_domain = Account()\n",
    "account_domain.NewAccount()"
   ]
  }
 ],
 "metadata": {
  "kernelspec": {
   "display_name": "Python 2",
   "language": "python",
   "name": "python2"
  },
  "language_info": {
   "codemirror_mode": {
    "name": "ipython",
    "version": 2
   },
   "file_extension": ".py",
   "mimetype": "text/x-python",
   "name": "python",
   "nbconvert_exporter": "python",
   "pygments_lexer": "ipython2",
   "version": "2.7.10"
  }
 },
 "nbformat": 4,
 "nbformat_minor": 0
}
