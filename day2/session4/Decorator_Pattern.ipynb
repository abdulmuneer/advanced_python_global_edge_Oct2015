{
 "cells": [
  {
   "cell_type": "markdown",
   "metadata": {},
   "source": [
    "<h2>Decorator Pattern</h2>\n",
    "<p>The decorator pattern is a structural design pattern which enables us to add new or additional behavior to an object during runtime, depending on the situation.</p>\n",
    "<p>The goal is to make it so that the extended functions can be applied to one specific instance, and, at the same time, still be able to create an original instance that doesn’t have the new functions. It also allows for combining multiple decorators for one instance, so that you’re not stuck with one decorator for each instance. This pattern is an alternative to subclassing, which refers to creating a class that inherits functionality from a parent class. As opposed to subclassing, which adds the behavior at compile time, “decorating” allows you to add new behavior during runtime, if the situation calls for it.</p>\n",
    "<p>To implement the decorator pattern, we can follow these steps:</p>\n",
    "<ol>\n",
    "<li>Subclass the original “Component” class into a “Decorator” class</li>\n",
    "<li>In the Decorator class, add a Component pointer as a field</li>\n",
    "<li>Pass a Component to the Decorator constructor to initialize the Component pointer</li>\n",
    "<li>In the Decorator class, redirect all “Component” methods to the “Component” pointer, and</li>\n",
    "<li>In the Decorator class, override any Component method(s) whose behavior needs to be modified.</li>\n",
    "</ol>\n"
   ]
  },
  {
   "cell_type": "code",
   "execution_count": null,
   "metadata": {
    "collapsed": true
   },
   "outputs": [],
   "source": [
    "class HtmlLinks():\n",
    "    def set_html(self, html):\n",
    "        self.html = html\n",
    " \n",
    "    def get_html(self):\n",
    "        return self.html\n",
    " \n",
    "    def render(self):\n",
    "        print(self.html)\n",
    "\n",
    "class LogoutLink(HtmlLinks):\n",
    "    def __init__(self):\n",
    "        self.html = \"<a href=\"logout.html\"> Logout </a>\"\n",
    "\n",
    "class LogoutLinkH2Decorator(HtmlLinks):\n",
    "    def __init__(self, logout_link):\n",
    "        self.logout_link = logout_link\n",
    "        self.set_html(\"<h2>{0}</h2>\".format(self.logout_link.get_html()))\n",
    " \n",
    "    def call(self, name, args):\n",
    "        self.logout_link.name(args[0])\n",
    "\n",
    "class LogoutLinkUnderlineDecorator(HtmlLinks):\n",
    "    def __init__(self, logout_link):\n",
    "        self.logout_link = logout_link\n",
    "        self.set_html(\"<u>{0}</u>\".format(self.logout_link.get_html())) #HTML4\n",
    " \n",
    "    def call(self, name, args):\n",
    "        self.logout_link.name(args[0])\n",
    "\n",
    "class LogoutLinkStrongDecorator(HtmlLinks):\n",
    "    def __init__(self, logout_link):\n",
    "        self.logout_link = logout_link\n",
    "        self.set_html(\"<strong> {0} </strong>\".format(self.logout_link.get_html()))\n",
    " \n",
    "    def call(self, name, args):\n",
    "        self.logout_link.name(args[0])\n",
    "\n",
    "logout_link = LogoutLink()\n",
    "is_logged_in = 0\n",
    "in_home_page = 0\n",
    " \n",
    "if is_logged_in:\n",
    "    logout_link = LogoutLinkStrongDecorator(logout_link)\n",
    "if in_home_page:\n",
    "    logout_link = LogoutLinkH2Decorator(logout_link)\n",
    "else:\n",
    "    logout_link = LogoutLinkUnderlineDecorator(logout_link)\n",
    "\n",
    "logout_link.render()"
   ]
  }
 ],
 "metadata": {
  "kernelspec": {
   "display_name": "Python 2",
   "language": "python",
   "name": "python2"
  },
  "language_info": {
   "codemirror_mode": {
    "name": "ipython",
    "version": 2
   },
   "file_extension": ".py",
   "mimetype": "text/x-python",
   "name": "python",
   "nbconvert_exporter": "python",
   "pygments_lexer": "ipython2",
   "version": "2.7.10"
  }
 },
 "nbformat": 4,
 "nbformat_minor": 0
}
